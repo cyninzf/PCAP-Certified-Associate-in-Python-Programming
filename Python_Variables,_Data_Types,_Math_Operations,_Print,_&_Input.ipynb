{
  "cells": [
    {
      "cell_type": "markdown",
      "metadata": {
        "id": "view-in-github",
        "colab_type": "text"
      },
      "source": [
        "<a href=\"https://colab.research.google.com/github/cyninzf/PCAP-in-Python-Programming/blob/main/Python_Variables%2C_Data_Types%2C_Math_Operations%2C_Print%2C_%26_Input.ipynb\" target=\"_parent\"><img src=\"https://colab.research.google.com/assets/colab-badge.svg\" alt=\"Open In Colab\"/></a>"
      ]
    },
    {
      "cell_type": "markdown",
      "metadata": {
        "id": "WbOd2bn8OxF6"
      },
      "source": [
        "![image-2.png](attachment:image-2.png)"
      ]
    },
    {
      "cell_type": "markdown",
      "metadata": {
        "id": "PQMRBlT-OxF7"
      },
      "source": [
        "![image-3.png](attachment:image-3.png)"
      ]
    },
    {
      "cell_type": "markdown",
      "metadata": {
        "id": "zZB2EM8EOxF7"
      },
      "source": [
        "![image-2.png](attachment:image-2.png)"
      ]
    },
    {
      "cell_type": "markdown",
      "metadata": {
        "id": "hcgdG3w2OxF8"
      },
      "source": [
        "![image-2.png](attachment:image-2.png)"
      ]
    },
    {
      "cell_type": "code",
      "execution_count": null,
      "metadata": {
        "id": "M0C5RQtQOxF8"
      },
      "outputs": [],
      "source": [
        "# Let's develop a simple currency convertor application in Python that receives:\n",
        "    # (1) Name of the user\n",
        "    # (2) Amount the user wants to exchange in U.S. dollars\n",
        "\n",
        "# The application performs the following tasks:\n",
        "    # (1) Converts the amount into equivalent Canadian (CAD) dollars (assume 1.36 exchange rate)\n",
        "    # (2) Displays the answer to the screen\n",
        "\n",
        "# The input() Function is used to get data from the user\n",
        "name = input(\"Welcome to XYZ currency exchange, what's your name? \")\n",
        "name"
      ]
    },
    {
      "cell_type": "code",
      "execution_count": null,
      "metadata": {
        "id": "HzbueZ-YOxF8"
      },
      "outputs": [],
      "source": [
        "# Let's obtain the amount of money that the user would like to exchange in USD\n",
        "amount_USD = input(\"Enter the amount you would like to exchange in U.S. dollars: \")\n",
        "amount_USD"
      ]
    },
    {
      "cell_type": "code",
      "execution_count": null,
      "metadata": {
        "id": "1O7KnutFOxF9"
      },
      "outputs": [],
      "source": [
        "# Let's check out the data type of \"name\"\n",
        "# Note that \"str\" stands for String data type which represents a sequence of characters\n",
        "type(name)"
      ]
    },
    {
      "cell_type": "code",
      "execution_count": null,
      "metadata": {
        "id": "iYIdp6IsOxF9"
      },
      "outputs": [],
      "source": [
        "# Let's check out the data type of \"amount_USD\"\n",
        "# Note that by default, the user's input value will be stored in a form of String\n",
        "type(amount_USD)"
      ]
    },
    {
      "cell_type": "code",
      "execution_count": null,
      "metadata": {
        "id": "yPcsaC62OxF9"
      },
      "outputs": [],
      "source": [
        "# Let's convert the amount_USD from String (str) data type to Float data type\n",
        "# We do this conversion because we will perform math operation on this Float value later on\n",
        "# You can not perform math operations on Strings (str) data type\n",
        "amount_USD = float(amount_USD)\n",
        "type(amount_USD)"
      ]
    },
    {
      "cell_type": "code",
      "execution_count": null,
      "metadata": {
        "id": "q3FYcCKzOxF9"
      },
      "outputs": [],
      "source": [
        "# Let's perform math operations in Python\n",
        "# Let's define the currency conversion rate\n",
        "USD_CAD = 1.36\n",
        "\n",
        "# Convert from USD to CAD\n",
        "amount_CAD = amount_USD * USD_CAD\n",
        "amount_CAD"
      ]
    },
    {
      "cell_type": "code",
      "execution_count": null,
      "metadata": {
        "id": "4pAidVwoOxF9"
      },
      "outputs": [],
      "source": [
        "# Let's print the results to the screen using the print() Function\n",
        "print(\"Welcome {}, the equivalent of USD ${} is CAD ${}\".format(name, amount_USD, amount_CAD))"
      ]
    },
    {
      "cell_type": "markdown",
      "metadata": {
        "id": "qtnGoqXeOxF9"
      },
      "source": [
        "**PRACTICE OPPORTUNITY:**\n",
        "- **A New Zealand traveler returned back from  a trip to Singapore with SGD 13,700 (Singapore dollars). A foreign exchange dealer provided the traveler with the following quotes:**\n",
        "\n",
        "<center>\n",
        "    \n",
        "| Ratio  |  Spot Rates\n",
        "|:-------|:----------\n",
        "USD/SGD  | 1.34\n",
        "NZD/USD  | 0.62\n",
        "    \n",
        "</center>\n",
        "    \n",
        "\n",
        "- **Write a Python code that takes in the name of the user and the SGD dollar amount they want to exchange. The application converts the amount into equivalent NZD and displays the answer to the screen.**\n",
        "\n",
        "- **Find a sample expected output below:**\n",
        "\n",
        "  - Welcome to the foreign currency exchange office, please enter your name: Sarah George   \n",
        "  - Enter the amount of funds you want to exchange in SGD: 13700\n",
        "  - Welcome Sarah George to our office, the amount you want to exchange is SGD \\\\$13700 which will be converted to NZD \\\\$16490.12"
      ]
    },
    {
      "cell_type": "code",
      "execution_count": 19,
      "metadata": {
        "id": "m8DKUiObOxF-",
        "colab": {
          "base_uri": "https://localhost:8080/"
        },
        "outputId": "009669b9-5ac2-4837-e3b7-efa5dc7442cd"
      },
      "outputs": [
        {
          "output_type": "stream",
          "name": "stdout",
          "text": [
            "Welcome to the foreign currency exchange office, please enter your name: s\n",
            "Enter the amount of funds you want to exchange in SGD: 13700\n",
            "Welcome s to our office, the anount you want to exchange is SGD\\13700 which will be converted to NZD\\16490\n"
          ]
        }
      ],
      "source": [
        "name = input(\"Welcome to the foreign currency exchange office, please enter your name: \")\n",
        "amount_SGD = input(\"Enter the amount of funds you want to exchange in SGD: \")\n",
        "USD_SGD = 1.34\n",
        "NZD_USD = 0.62\n",
        "NZD_SGD = USD_SGD * NZD_USD\n",
        "amount_NZD = int(float(amount_SGD)/NZD_SGD)\n",
        "print (\"Welcome {} to our office, the anount you want to exchange is SGD\\{} which will be converted to NZD\\{}\".format(name, amount_SGD, amount_NZD))\n"
      ]
    },
    {
      "cell_type": "markdown",
      "metadata": {
        "id": "xoPdk3QrOxF-"
      },
      "source": [
        "# PRACTICE OPPORTUNITY SOLUION"
      ]
    },
    {
      "cell_type": "markdown",
      "metadata": {
        "id": "HjX1eIUaOxF-"
      },
      "source": [
        "**PRACTICE OPPORTUNITY SOLUTION:**\n",
        "- **A New Zealand traveler returned back from  a trip to Singapore with SGD 13,700 (Singapore dollars). A foreign exchange dealer provided the traveler with the following quotes:**\n",
        "\n",
        "<center>\n",
        "    \n",
        "| Ratio  |  Spot Rates\n",
        "|:-------|:----------\n",
        "USD/SGD  | 1.34\n",
        "NZD/USD  | 0.62\n",
        "    \n",
        "</center>\n",
        "    \n",
        "\n",
        "- **Write a Python code that takes in the name of the user and the SGD dollar amount they want to exchange. The application converts the amount into equivalent NZD and displays the answer to the screen.**\n",
        "\n",
        "- **Find a sample expected output below:**\n",
        "\n",
        "  - Welcome to the foreign currency exchange office, please enter your name: Sarah George   \n",
        "  - Enter the amount of funds you want to exchange in SGD: 13700\n",
        "  - Welcome Sarah George to our office, the amount you want to exchange is SGD \\\\$13700 which will be converted to NZD \\\\$16490.12"
      ]
    },
    {
      "cell_type": "code",
      "execution_count": 15,
      "metadata": {
        "id": "oN7XCjmuOxF-",
        "colab": {
          "base_uri": "https://localhost:8080/"
        },
        "outputId": "e93d48ab-990c-4586-81f5-02ee43b0f223"
      },
      "outputs": [
        {
          "output_type": "stream",
          "name": "stdout",
          "text": [
            "Welcome to the foreign currency exchange office, please enter your name: s\n",
            "Enter the amount you want to exchange: 13700\n",
            "Welcome s to our office, the amount you want to exchange is SGD $13700 which will be converted to NZD $16490.12999518536\n"
          ]
        }
      ],
      "source": [
        "name = input(\"Welcome to the foreign currency exchange office, please enter your name: \")\n",
        "amount_SGD = input(\"Enter the amount you want to exchange: \")\n",
        "\n",
        "USD_SGD = 1.34\n",
        "NZD_USD = 0.62\n",
        "\n",
        "\n",
        "# You will need to calculate the NZD/SGD cross-rate which is NZD/USD × USD/SGD = 0.62 × 1.34 = 0.8308\n",
        "NZD_SGD = NZD_USD * USD_SGD\n",
        "\n",
        "amount_NZD = int(amount_SGD) / NZD_SGD\n",
        "print(\"Welcome {} to our office, the amount you want to exchange is SGD ${} which will be converted to NZD ${}\".format(name, amount_SGD, amount_NZD))"
      ]
    },
    {
      "cell_type": "markdown",
      "metadata": {
        "id": "fC9WC_jMOxF-"
      },
      "source": [
        "# EXCELLENT JOB!"
      ]
    }
  ],
  "metadata": {
    "colab": {
      "provenance": [],
      "include_colab_link": true
    },
    "kernelspec": {
      "display_name": "Python 3 (ipykernel)",
      "language": "python",
      "name": "python3"
    },
    "language_info": {
      "codemirror_mode": {
        "name": "ipython",
        "version": 3
      },
      "file_extension": ".py",
      "mimetype": "text/x-python",
      "name": "python",
      "nbconvert_exporter": "python",
      "pygments_lexer": "ipython3",
      "version": "3.9.13"
    }
  },
  "nbformat": 4,
  "nbformat_minor": 0
}