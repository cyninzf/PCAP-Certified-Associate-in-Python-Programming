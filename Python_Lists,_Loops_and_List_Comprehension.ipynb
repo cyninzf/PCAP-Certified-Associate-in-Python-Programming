{
  "cells": [
    {
      "cell_type": "markdown",
      "metadata": {
        "id": "view-in-github",
        "colab_type": "text"
      },
      "source": [
        "<a href=\"https://colab.research.google.com/github/cyninzf/PCAP-in-Python-Programming/blob/main/Python_Lists%2C_Loops_and_List_Comprehension.ipynb\" target=\"_parent\"><img src=\"https://colab.research.google.com/assets/colab-badge.svg\" alt=\"Open In Colab\"/></a>"
      ]
    },
    {
      "cell_type": "markdown",
      "metadata": {
        "id": "3BIYvk2aHMxJ"
      },
      "source": [
        "![image.png](attachment:image.png)"
      ]
    },
    {
      "cell_type": "markdown",
      "metadata": {
        "id": "_5Xdl0QMHMxL"
      },
      "source": [
        "![image.png](attachment:image.png)"
      ]
    },
    {
      "cell_type": "markdown",
      "metadata": {
        "id": "o05JkY6tHMxM"
      },
      "source": [
        "![image.png](attachment:image.png)"
      ]
    },
    {
      "cell_type": "markdown",
      "metadata": {
        "id": "LKuRjMkgHMxM"
      },
      "source": [
        "![image.png](attachment:image.png)"
      ]
    },
    {
      "cell_type": "code",
      "execution_count": 1,
      "metadata": {
        "colab": {
          "base_uri": "https://localhost:8080/"
        },
        "id": "QBsQ1sHMHMxM",
        "outputId": "6761b3a2-b5e7-414d-e87d-394ed4cfc36e"
      },
      "outputs": [
        {
          "output_type": "execute_result",
          "data": {
            "text/plain": [
              "[1, 2, 3, 4, 5]"
            ]
          },
          "metadata": {},
          "execution_count": 1
        }
      ],
      "source": [
        "# Let's define a Python List named \"input_list\" that contains integer values\n",
        "input_list = [1, 2, 3, 4, 5]\n",
        "input_list"
      ]
    },
    {
      "cell_type": "code",
      "execution_count": 2,
      "metadata": {
        "colab": {
          "base_uri": "https://localhost:8080/"
        },
        "id": "VK69mpzOHMxN",
        "outputId": "602592c0-9271-42a4-f192-26cf454d93b8"
      },
      "outputs": [
        {
          "output_type": "execute_result",
          "data": {
            "text/plain": [
              "1"
            ]
          },
          "metadata": {},
          "execution_count": 2
        }
      ],
      "source": [
        "# Let's access specific elements in the Python List using indexing\n",
        "input_list[0]"
      ]
    },
    {
      "cell_type": "code",
      "execution_count": 3,
      "metadata": {
        "colab": {
          "base_uri": "https://localhost:8080/"
        },
        "id": "ulz1xxTPHMxO",
        "outputId": "06aa5857-f0e2-4cbc-ae2c-501b04be5cc8"
      },
      "outputs": [
        {
          "output_type": "stream",
          "name": "stdout",
          "text": [
            "[1, 4, 9, 16, 25]\n"
          ]
        }
      ],
      "source": [
        "# Let's assume that we want to square every element in the Python List named \"input_list\"\n",
        "# Let's define another empty List named \"output_list\" to store the output\n",
        "output_list = []\n",
        "\n",
        "# Now we will create a For loop that goes over every element in the \"input_list\", square up its values,\n",
        "# and append the results to the \"output_list\"\n",
        "for x in input_list:\n",
        "    output_list.append(x**2)\n",
        "\n",
        "print(output_list)"
      ]
    },
    {
      "cell_type": "code",
      "execution_count": 4,
      "metadata": {
        "colab": {
          "base_uri": "https://localhost:8080/"
        },
        "id": "Cg4hspjfHMxO",
        "outputId": "6ba79e98-14e2-4f96-8f5c-4dd05a0d6580"
      },
      "outputs": [
        {
          "output_type": "execute_result",
          "data": {
            "text/plain": [
              "[1, 4, 9, 16, 25]"
            ]
          },
          "metadata": {},
          "execution_count": 4
        }
      ],
      "source": [
        "# Note that we had to write several lines of code to perform a simple task\n",
        "# Alternatively, List Comprehension can elegantly perform the same task using one line of code!\n",
        "output_list = [x**2 for x in input_list]\n",
        "output_list"
      ]
    },
    {
      "cell_type": "markdown",
      "metadata": {
        "id": "Sty4X0uAHMxO"
      },
      "source": [
        "**PRACTICE OPPORTUNITY:**\n",
        "- **Assume that we have 3 clients who invested the following amounts in stocks earning 8% annually:**\n",
        "     \n",
        "     - **client_investments = [\\\\$400,000  \\\\$45,000   \\\\$60,000]**\n",
        "     \n",
        "     \n",
        "- **Complete the following tasks:**\n",
        "    - **1. Write a For loop that iterates over each element in the \"client_investments\" List, calculates the annual returns and places the results in another list named \"client_returns\"**\n",
        "    - **2. Repeat the same operation using List Comprehension**\n",
        "    - **3. Compare the results from step 1 and 2 and perform a sanity check**"
      ]
    },
    {
      "cell_type": "code",
      "execution_count": 16,
      "metadata": {
        "colab": {
          "base_uri": "https://localhost:8080/"
        },
        "id": "098HVKyjHMxP",
        "outputId": "d762c6a0-78d7-4d7b-eb49-9c4b1803e1d0"
      },
      "outputs": [
        {
          "output_type": "stream",
          "name": "stdout",
          "text": [
            "[32000.0, 3600.0, 4800.0]\n",
            "[32000.0, 3600.0, 4800.0]\n"
          ]
        }
      ],
      "source": [
        "client_investments = [400000,45000,60000]\n",
        "returns = 0.08\n",
        "client_returns =[]\n",
        "for x in client_investments:\n",
        "  client_returns.append(x * returns)\n",
        "print(client_returns)\n",
        "\n",
        "client_returns = [x*returns for x in client_investments]\n",
        "print(client_returns)"
      ]
    },
    {
      "cell_type": "markdown",
      "metadata": {
        "id": "pxUGN4K3HMxP"
      },
      "source": [
        "# PRACTICE OPPORTUNITY SOLUTION"
      ]
    },
    {
      "cell_type": "markdown",
      "metadata": {
        "id": "GRn37Ek1HMxP"
      },
      "source": [
        "**PRACTICE OPPORTUNITY SOLUTION:**\n",
        "- **Assume that we have 3 clients who invested the following amounts in stocks earning 8% annually:**\n",
        "     \n",
        "     - **client_investments = [\\\\$400,000  \\\\$45,000   \\\\$60,000]**\n",
        "     \n",
        "     \n",
        "- **Complete the following tasks:**\n",
        "    - **1. Write a For loop that iterates over each element in the \"client_investments\" List, calculates the annual returns and places the results in another list named \"client_returns\"**\n",
        "    - **2. Repeat the same operation using List Comprehension**\n",
        "    - **3. Compare the results from step 1 and 2 and perform a sanity check**"
      ]
    },
    {
      "cell_type": "code",
      "execution_count": null,
      "metadata": {
        "id": "pV8ewMQZHMxP"
      },
      "outputs": [],
      "source": [
        "# Define a Python List\n",
        "client_investments = [400000, 45000, 60000]\n",
        "\n",
        "# Define a variable that holds the returns\n",
        "returns = 0.08"
      ]
    },
    {
      "cell_type": "code",
      "execution_count": null,
      "metadata": {
        "id": "OPyhUDKEHMxP",
        "outputId": "a0f68eb3-63d1-40e3-9653-7fa53fb3e18d"
      },
      "outputs": [
        {
          "name": "stdout",
          "output_type": "stream",
          "text": [
            "[32000.0, 3600.0, 4800.0]\n"
          ]
        }
      ],
      "source": [
        "# Let's define another empty List named \"client_returns\" to store the output\n",
        "client_returns = []\n",
        "\n",
        "# Now we will create a For loop that goes over every element in the input List,\n",
        "# calculates the annual returns and places the results in another List named \"client_returns\"\n",
        "for x in client_investments:\n",
        "    client_returns.append(x * returns)\n",
        "\n",
        "print(client_returns)"
      ]
    },
    {
      "cell_type": "code",
      "execution_count": null,
      "metadata": {
        "id": "ak-sqn54HMxQ",
        "outputId": "6c3a01b2-759e-41e4-b598-115dfc9c4599"
      },
      "outputs": [
        {
          "data": {
            "text/plain": [
              "[32000.0, 3600.0, 4800.0]"
            ]
          },
          "execution_count": 7,
          "metadata": {},
          "output_type": "execute_result"
        }
      ],
      "source": [
        "# Repeat the same excercise using List Comprehension\n",
        "client_returns_list_comp = [ x * returns for x in client_investments]\n",
        "client_returns_list_comp"
      ]
    },
    {
      "cell_type": "code",
      "execution_count": null,
      "metadata": {
        "id": "Ec1Ul12xHMxQ"
      },
      "outputs": [],
      "source": [
        "# Assertions are statements that are used for code debugging and for performing sanity checks\n",
        "# Assertions are used to check if some condition is held True\n",
        "assert client_returns == client_returns_list_comp"
      ]
    },
    {
      "cell_type": "markdown",
      "metadata": {
        "id": "cdZDogK_HMxQ"
      },
      "source": [
        "# EXCELLENT JOB!"
      ]
    }
  ],
  "metadata": {
    "kernelspec": {
      "display_name": "Python 3 (ipykernel)",
      "language": "python",
      "name": "python3"
    },
    "language_info": {
      "codemirror_mode": {
        "name": "ipython",
        "version": 3
      },
      "file_extension": ".py",
      "mimetype": "text/x-python",
      "name": "python",
      "nbconvert_exporter": "python",
      "pygments_lexer": "ipython3",
      "version": "3.9.13"
    },
    "colab": {
      "provenance": [],
      "include_colab_link": true
    }
  },
  "nbformat": 4,
  "nbformat_minor": 0
}